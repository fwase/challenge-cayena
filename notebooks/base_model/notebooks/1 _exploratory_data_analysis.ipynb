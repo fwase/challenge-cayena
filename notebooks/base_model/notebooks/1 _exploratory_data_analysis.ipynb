{
 "cells": [
  {
   "cell_type": "code",
   "execution_count": 1,
   "metadata": {},
   "outputs": [],
   "source": [
    "import sys\n",
    "\n",
    "from config import get_home_path\n",
    "\n",
    "sys.path.insert(1, get_home_path())\n",
    "\n",
    "from model_deploy_sdk.utils import get_dataset"
   ]
  },
  {
   "cell_type": "markdown",
   "metadata": {},
   "source": [
    "### 1. Load dataset"
   ]
  },
  {
   "cell_type": "code",
   "execution_count": 2,
   "metadata": {},
   "outputs": [],
   "source": [
    "dataset_ds_case = get_dataset('dataset_ds_case')"
   ]
  },
  {
   "cell_type": "code",
   "execution_count": 3,
   "metadata": {},
   "outputs": [
    {
     "data": {
      "text/html": [
       "<div>\n",
       "<style scoped>\n",
       "    .dataframe tbody tr th:only-of-type {\n",
       "        vertical-align: middle;\n",
       "    }\n",
       "\n",
       "    .dataframe tbody tr th {\n",
       "        vertical-align: top;\n",
       "    }\n",
       "\n",
       "    .dataframe thead th {\n",
       "        text-align: right;\n",
       "    }\n",
       "</style>\n",
       "<table border=\"1\" class=\"dataframe\">\n",
       "  <thead>\n",
       "    <tr style=\"text-align: right;\">\n",
       "      <th></th>\n",
       "      <th>col_0</th>\n",
       "      <th>col_1</th>\n",
       "      <th>col_2</th>\n",
       "      <th>col_3</th>\n",
       "      <th>col_4</th>\n",
       "      <th>col_5</th>\n",
       "      <th>col_6</th>\n",
       "      <th>col_7</th>\n",
       "      <th>total_quantity</th>\n",
       "      <th>augmented_quantity</th>\n",
       "      <th>FU</th>\n",
       "      <th>City</th>\n",
       "      <th>CEP</th>\n",
       "      <th>date_time_login</th>\n",
       "      <th>date_time_confirm</th>\n",
       "      <th>TARGET</th>\n",
       "    </tr>\n",
       "  </thead>\n",
       "  <tbody>\n",
       "    <tr>\n",
       "      <th>0</th>\n",
       "      <td>-400.732711</td>\n",
       "      <td>72.926478</td>\n",
       "      <td>-243.059370</td>\n",
       "      <td>87.928551</td>\n",
       "      <td>568.211458</td>\n",
       "      <td>-314.371508</td>\n",
       "      <td>-601.964793</td>\n",
       "      <td>617.692215</td>\n",
       "      <td>123</td>\n",
       "      <td>569</td>\n",
       "      <td>ES</td>\n",
       "      <td>Vitória</td>\n",
       "      <td>29072305</td>\n",
       "      <td>2022-06-05 02:14:15</td>\n",
       "      <td>2022-06-05 02:14:21</td>\n",
       "      <td>1</td>\n",
       "    </tr>\n",
       "    <tr>\n",
       "      <th>1</th>\n",
       "      <td>-880.747368</td>\n",
       "      <td>-956.608685</td>\n",
       "      <td>1254.880642</td>\n",
       "      <td>-295.771103</td>\n",
       "      <td>-4279.430521</td>\n",
       "      <td>-1540.310595</td>\n",
       "      <td>-376.902843</td>\n",
       "      <td>-550.748455</td>\n",
       "      <td>108</td>\n",
       "      <td>184</td>\n",
       "      <td>RJ</td>\n",
       "      <td>Rio de Janeiro</td>\n",
       "      <td>23580304</td>\n",
       "      <td>2022-05-15 08:04:36</td>\n",
       "      <td>2022-05-15 08:04:52</td>\n",
       "      <td>0</td>\n",
       "    </tr>\n",
       "    <tr>\n",
       "      <th>2</th>\n",
       "      <td>1466.142174</td>\n",
       "      <td>-254.237053</td>\n",
       "      <td>27.568952</td>\n",
       "      <td>-607.225752</td>\n",
       "      <td>-133.657056</td>\n",
       "      <td>1300.214330</td>\n",
       "      <td>254.241280</td>\n",
       "      <td>970.543987</td>\n",
       "      <td>116</td>\n",
       "      <td>384</td>\n",
       "      <td>RJ</td>\n",
       "      <td>Nova Iguaçu</td>\n",
       "      <td>26220320</td>\n",
       "      <td>2022-05-03 17:14:40</td>\n",
       "      <td>2022-05-03 17:14:49</td>\n",
       "      <td>0</td>\n",
       "    </tr>\n",
       "    <tr>\n",
       "      <th>3</th>\n",
       "      <td>-528.482231</td>\n",
       "      <td>1100.676006</td>\n",
       "      <td>-718.090372</td>\n",
       "      <td>-97.394485</td>\n",
       "      <td>-2962.996039</td>\n",
       "      <td>-1356.790309</td>\n",
       "      <td>1034.567734</td>\n",
       "      <td>-68.548963</td>\n",
       "      <td>100</td>\n",
       "      <td>0</td>\n",
       "      <td>RJ</td>\n",
       "      <td>Nova Iguaçu</td>\n",
       "      <td>26089250</td>\n",
       "      <td>2022-06-07 16:56:18</td>\n",
       "      <td>2022-06-07 16:56:26</td>\n",
       "      <td>0</td>\n",
       "    </tr>\n",
       "    <tr>\n",
       "      <th>4</th>\n",
       "      <td>1648.290257</td>\n",
       "      <td>1317.673828</td>\n",
       "      <td>-1102.974635</td>\n",
       "      <td>448.956842</td>\n",
       "      <td>-332.796029</td>\n",
       "      <td>1163.003660</td>\n",
       "      <td>-1560.440766</td>\n",
       "      <td>1844.630048</td>\n",
       "      <td>107</td>\n",
       "      <td>161</td>\n",
       "      <td>MG</td>\n",
       "      <td>Contagem</td>\n",
       "      <td>32046360</td>\n",
       "      <td>2022-04-05 00:19:15</td>\n",
       "      <td>2022-04-05 00:19:26</td>\n",
       "      <td>0</td>\n",
       "    </tr>\n",
       "  </tbody>\n",
       "</table>\n",
       "</div>"
      ],
      "text/plain": [
       "         col_0        col_1        col_2       col_3        col_4  \\\n",
       "0  -400.732711    72.926478  -243.059370   87.928551   568.211458   \n",
       "1  -880.747368  -956.608685  1254.880642 -295.771103 -4279.430521   \n",
       "2  1466.142174  -254.237053    27.568952 -607.225752  -133.657056   \n",
       "3  -528.482231  1100.676006  -718.090372  -97.394485 -2962.996039   \n",
       "4  1648.290257  1317.673828 -1102.974635  448.956842  -332.796029   \n",
       "\n",
       "         col_5        col_6        col_7  total_quantity  augmented_quantity  \\\n",
       "0  -314.371508  -601.964793   617.692215             123                 569   \n",
       "1 -1540.310595  -376.902843  -550.748455             108                 184   \n",
       "2  1300.214330   254.241280   970.543987             116                 384   \n",
       "3 -1356.790309  1034.567734   -68.548963             100                   0   \n",
       "4  1163.003660 -1560.440766  1844.630048             107                 161   \n",
       "\n",
       "   FU            City       CEP      date_time_login    date_time_confirm  \\\n",
       "0  ES         Vitória  29072305  2022-06-05 02:14:15  2022-06-05 02:14:21   \n",
       "1  RJ  Rio de Janeiro  23580304  2022-05-15 08:04:36  2022-05-15 08:04:52   \n",
       "2  RJ     Nova Iguaçu  26220320  2022-05-03 17:14:40  2022-05-03 17:14:49   \n",
       "3  RJ     Nova Iguaçu  26089250  2022-06-07 16:56:18  2022-06-07 16:56:26   \n",
       "4  MG        Contagem  32046360  2022-04-05 00:19:15  2022-04-05 00:19:26   \n",
       "\n",
       "   TARGET  \n",
       "0       1  \n",
       "1       0  \n",
       "2       0  \n",
       "3       0  \n",
       "4       0  "
      ]
     },
     "execution_count": 3,
     "metadata": {},
     "output_type": "execute_result"
    }
   ],
   "source": [
    "dataset_ds_case.head(5)"
   ]
  },
  {
   "cell_type": "markdown",
   "metadata": {},
   "source": [
    "### 2. Explore dataset"
   ]
  },
  {
   "cell_type": "code",
   "execution_count": null,
   "metadata": {},
   "outputs": [],
   "source": []
  },
  {
   "cell_type": "markdown",
   "metadata": {},
   "source": [
    "### 3. Feature Engineering"
   ]
  },
  {
   "cell_type": "code",
   "execution_count": null,
   "metadata": {},
   "outputs": [],
   "source": []
  },
  {
   "cell_type": "markdown",
   "metadata": {},
   "source": [
    "### 4. Feature and dataset selection"
   ]
  },
  {
   "cell_type": "code",
   "execution_count": null,
   "metadata": {},
   "outputs": [],
   "source": []
  }
 ],
 "metadata": {
  "kernelspec": {
   "display_name": "challenge-cayena-models-VYXt5ikN-py3.10",
   "language": "python",
   "name": "python3"
  },
  "language_info": {
   "codemirror_mode": {
    "name": "ipython",
    "version": 3
   },
   "file_extension": ".py",
   "mimetype": "text/x-python",
   "name": "python",
   "nbconvert_exporter": "python",
   "pygments_lexer": "ipython3",
   "version": "3.10.12"
  }
 },
 "nbformat": 4,
 "nbformat_minor": 2
}
